{
    "cells": [
        {
            "metadata": {
                "collapsed": true
            },
            "cell_type": "markdown",
            "source": "\n ## Final Report\n\n\n#### May 13, 2020\n\n\n\n1.\tIntroduction\n\nI\u2019ve been living in Barcelona since 2015 and since then this city has never been stopped surprising me. It is a truly one the most attractive city for tourists. There are many venues of all kinds and tastes to visit. Though, I think with all this huge variety of venues it is difficult to find something really worthy. Especially, considering the fact that most tourist come to Barcelona only for few days. Therefore, I want to analyze the Foursquare data available for the city to find out the top-rated venues and provide a visual guide to tourists of the top ranked spots in the city for each category. \n\n2.\tData\n\nIn order to extract venue information to create a visually appealing data experience for users I used the Foursquare API. However, because changes are made on live basis, while querying the API we can get different venues depending on time. \n\n3.\tMethodology \n\nFoursquare. We connect to the Foursquare API and launch a request to obtain all the trending venues in the city.\nJSON. We obtain from the request a JSON that we clean up and convert to a pandas dataframe. Then we regroup the dataframe by category and we calculate the frequency of occurrence for each category. \nFolium. Once we have an organized data, we can create a map using folium and visualizing categories\u2019 positions and info on the map.\n\n4.\tResults\n\nAs a result, we have a map that is a basic tool for a person visiting Barcelona who will be able to see the top venues for each category and where they are located on the map to enjoy this amazing city. \n"
        },
        {
            "metadata": {},
            "cell_type": "code",
            "source": "",
            "execution_count": null,
            "outputs": []
        }
    ],
    "metadata": {
        "kernelspec": {
            "name": "python3",
            "display_name": "Python 3.6",
            "language": "python"
        },
        "language_info": {
            "name": "python",
            "version": "3.6.9",
            "mimetype": "text/x-python",
            "codemirror_mode": {
                "name": "ipython",
                "version": 3
            },
            "pygments_lexer": "ipython3",
            "nbconvert_exporter": "python",
            "file_extension": ".py"
        }
    },
    "nbformat": 4,
    "nbformat_minor": 1
}